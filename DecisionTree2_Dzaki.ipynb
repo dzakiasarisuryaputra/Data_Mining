{
 "cells": [
  {
   "cell_type": "code",
   "execution_count": 24,
   "id": "6cf98853",
   "metadata": {},
   "outputs": [],
   "source": [
    "import numpy as np\n",
    "import pandas as pd\n",
    "from sklearn import tree\n",
    "from sklearn.preprocessing import LabelEncoder"
   ]
  },
  {
   "cell_type": "code",
   "execution_count": 62,
   "id": "393e0989",
   "metadata": {},
   "outputs": [],
   "source": [
    "dataset = pd.read_csv('Dataset Praktik 7.csv')"
   ]
  },
  {
   "cell_type": "code",
   "execution_count": 63,
   "id": "06c578fa",
   "metadata": {},
   "outputs": [
    {
     "data": {
      "text/html": [
       "<div>\n",
       "<style scoped>\n",
       "    .dataframe tbody tr th:only-of-type {\n",
       "        vertical-align: middle;\n",
       "    }\n",
       "\n",
       "    .dataframe tbody tr th {\n",
       "        vertical-align: top;\n",
       "    }\n",
       "\n",
       "    .dataframe thead th {\n",
       "        text-align: right;\n",
       "    }\n",
       "</style>\n",
       "<table border=\"1\" class=\"dataframe\">\n",
       "  <thead>\n",
       "    <tr style=\"text-align: right;\">\n",
       "      <th></th>\n",
       "      <th>outlook</th>\n",
       "      <th>temperature</th>\n",
       "      <th>humidity</th>\n",
       "      <th>windy</th>\n",
       "      <th>play</th>\n",
       "    </tr>\n",
       "  </thead>\n",
       "  <tbody>\n",
       "    <tr>\n",
       "      <th>0</th>\n",
       "      <td>sunny</td>\n",
       "      <td>hot</td>\n",
       "      <td>high</td>\n",
       "      <td>no</td>\n",
       "      <td>Don't Play</td>\n",
       "    </tr>\n",
       "    <tr>\n",
       "      <th>1</th>\n",
       "      <td>sunny</td>\n",
       "      <td>hot</td>\n",
       "      <td>high</td>\n",
       "      <td>yes</td>\n",
       "      <td>Don't Play</td>\n",
       "    </tr>\n",
       "    <tr>\n",
       "      <th>2</th>\n",
       "      <td>cloudy</td>\n",
       "      <td>hot</td>\n",
       "      <td>high</td>\n",
       "      <td>no</td>\n",
       "      <td>Play</td>\n",
       "    </tr>\n",
       "    <tr>\n",
       "      <th>3</th>\n",
       "      <td>rainy</td>\n",
       "      <td>mild</td>\n",
       "      <td>high</td>\n",
       "      <td>no</td>\n",
       "      <td>Play</td>\n",
       "    </tr>\n",
       "    <tr>\n",
       "      <th>4</th>\n",
       "      <td>rainy</td>\n",
       "      <td>cool</td>\n",
       "      <td>normal</td>\n",
       "      <td>no</td>\n",
       "      <td>Play</td>\n",
       "    </tr>\n",
       "    <tr>\n",
       "      <th>5</th>\n",
       "      <td>rainy</td>\n",
       "      <td>cool</td>\n",
       "      <td>normal</td>\n",
       "      <td>yes</td>\n",
       "      <td>Play</td>\n",
       "    </tr>\n",
       "    <tr>\n",
       "      <th>6</th>\n",
       "      <td>cloudy</td>\n",
       "      <td>cool</td>\n",
       "      <td>normal</td>\n",
       "      <td>yes</td>\n",
       "      <td>Play</td>\n",
       "    </tr>\n",
       "    <tr>\n",
       "      <th>7</th>\n",
       "      <td>sunny</td>\n",
       "      <td>mild</td>\n",
       "      <td>high</td>\n",
       "      <td>no</td>\n",
       "      <td>Don't Play</td>\n",
       "    </tr>\n",
       "    <tr>\n",
       "      <th>8</th>\n",
       "      <td>sunny</td>\n",
       "      <td>cool</td>\n",
       "      <td>normal</td>\n",
       "      <td>no</td>\n",
       "      <td>Play</td>\n",
       "    </tr>\n",
       "    <tr>\n",
       "      <th>9</th>\n",
       "      <td>rainy</td>\n",
       "      <td>mild</td>\n",
       "      <td>normal</td>\n",
       "      <td>no</td>\n",
       "      <td>Play</td>\n",
       "    </tr>\n",
       "    <tr>\n",
       "      <th>10</th>\n",
       "      <td>sunny</td>\n",
       "      <td>mild</td>\n",
       "      <td>normal</td>\n",
       "      <td>yes</td>\n",
       "      <td>Play</td>\n",
       "    </tr>\n",
       "    <tr>\n",
       "      <th>11</th>\n",
       "      <td>cloudy</td>\n",
       "      <td>mild</td>\n",
       "      <td>high</td>\n",
       "      <td>yes</td>\n",
       "      <td>Play</td>\n",
       "    </tr>\n",
       "    <tr>\n",
       "      <th>12</th>\n",
       "      <td>cloudy</td>\n",
       "      <td>hot</td>\n",
       "      <td>normal</td>\n",
       "      <td>no</td>\n",
       "      <td>Play</td>\n",
       "    </tr>\n",
       "    <tr>\n",
       "      <th>13</th>\n",
       "      <td>rainy</td>\n",
       "      <td>mild</td>\n",
       "      <td>high</td>\n",
       "      <td>yes</td>\n",
       "      <td>Don't Play</td>\n",
       "    </tr>\n",
       "  </tbody>\n",
       "</table>\n",
       "</div>"
      ],
      "text/plain": [
       "   outlook temperature humidity windy        play\n",
       "0    sunny         hot     high    no  Don't Play\n",
       "1    sunny         hot     high   yes  Don't Play\n",
       "2   cloudy         hot     high    no        Play\n",
       "3    rainy        mild     high    no        Play\n",
       "4    rainy        cool   normal    no        Play\n",
       "5    rainy        cool   normal   yes        Play\n",
       "6   cloudy        cool   normal   yes        Play\n",
       "7    sunny        mild     high    no  Don't Play\n",
       "8    sunny        cool   normal    no        Play\n",
       "9    rainy        mild   normal    no        Play\n",
       "10   sunny        mild   normal   yes        Play\n",
       "11  cloudy        mild     high   yes        Play\n",
       "12  cloudy         hot   normal    no        Play\n",
       "13   rainy        mild     high   yes  Don't Play"
      ]
     },
     "execution_count": 63,
     "metadata": {},
     "output_type": "execute_result"
    }
   ],
   "source": [
    "dataset"
   ]
  },
  {
   "cell_type": "code",
   "execution_count": 67,
   "id": "a9e28de9",
   "metadata": {},
   "outputs": [],
   "source": [
    "def Encoder(df):\n",
    "    columnsToEncode = list(df.select_dtypes(include=['category']))\n",
    "    le = LabelEncoder()\n",
    "    for feature in columnsToEncode:\n",
    "        try:\n",
    "            df[feature] = le.fit_transform(df[feature])\n",
    "        except:\n",
    "            print('Error encoding '+feature)\n",
    "    return df"
   ]
  },
  {
   "cell_type": "code",
   "execution_count": 71,
   "id": "2eb97f3c",
   "metadata": {},
   "outputs": [],
   "source": [
    "dataset = encoder(dataset)\n",
    "dataset = dataset.to_numpy()"
   ]
  },
  {
   "cell_type": "code",
   "execution_count": 72,
   "id": "1e45533e",
   "metadata": {},
   "outputs": [],
   "source": [
    "#membagi dataset menjadi 80% train dan 20% test\n",
    "dataTrain = np.concatenate((dataset[0:4, :], dataset[7:11, :]), axis = 0)\n",
    "dataTes = np.concatenate((dataset[4:7, :], dataset[11:13, :]), axis = 0)"
   ]
  },
  {
   "cell_type": "code",
   "execution_count": 73,
   "id": "861713fc",
   "metadata": {},
   "outputs": [
    {
     "data": {
      "text/plain": [
       "array([[1, 0, 1, 0, 1],\n",
       "       [1, 0, 1, 1, 1],\n",
       "       [0, 0, 1, 1, 1],\n",
       "       [0, 2, 0, 1, 1],\n",
       "       [0, 1, 1, 0, 1]])"
      ]
     },
     "execution_count": 73,
     "metadata": {},
     "output_type": "execute_result"
    }
   ],
   "source": [
    "dataTes"
   ]
  },
  {
   "cell_type": "code",
   "execution_count": 74,
   "id": "62c27f0c",
   "metadata": {},
   "outputs": [],
   "source": [
    "inpTrain = dataTrain[:, 0:4]\n",
    "inpTes = dataTes[:, 0:4]\n",
    "labelTrain = dataTrain[:, 4]\n",
    "labelTes = dataTes[:, 4]"
   ]
  },
  {
   "cell_type": "code",
   "execution_count": 75,
   "id": "433fcd33",
   "metadata": {},
   "outputs": [
    {
     "data": {
      "text/plain": [
       "DecisionTreeClassifier()"
      ]
     },
     "execution_count": 75,
     "metadata": {},
     "output_type": "execute_result"
    }
   ],
   "source": [
    "#model decision tree\n",
    "model = tree.DecisionTreeClassifier()\n",
    "model"
   ]
  },
  {
   "cell_type": "code",
   "execution_count": 76,
   "id": "8991c4a1",
   "metadata": {},
   "outputs": [],
   "source": [
    "model = model.fit(inpTrain, labelTrain)"
   ]
  },
  {
   "cell_type": "code",
   "execution_count": 79,
   "id": "beccf455",
   "metadata": {},
   "outputs": [
    {
     "name": "stdout",
     "output_type": "stream",
     "text": [
      "Label sebenarnya [1 1 1 1 1]\n",
      "Hasil Prediksi [1 1 1 1 1]\n"
     ]
    }
   ],
   "source": [
    "hasilPrediksi = model.predict(inpTes)\n",
    "print(\"Label sebenarnya\", labelTes)\n",
    "print(\"Hasil Prediksi\", hasilPrediksi)"
   ]
  },
  {
   "cell_type": "code",
   "execution_count": 80,
   "id": "3ac6a08d",
   "metadata": {},
   "outputs": [
    {
     "name": "stdout",
     "output_type": "stream",
     "text": [
      "Prediksi Benar :  5  data\n",
      "Prediksi Salah :  0  data\n",
      "Akurasi :  100.0 %\n"
     ]
    }
   ],
   "source": [
    "prediksiBenar = (hasilPrediksi == labelTes).sum()\n",
    "prediksiSalah = (hasilPrediksi != labelTes).sum()\n",
    "\n",
    "print(\"Prediksi Benar : \",prediksiBenar,\" data\")\n",
    "print(\"Prediksi Salah : \",prediksiSalah,\" data\")\n",
    "print(\"Akurasi : \",prediksiBenar/(prediksiBenar+prediksiSalah)*100,\"%\")"
   ]
  },
  {
   "cell_type": "code",
   "execution_count": null,
   "id": "64aca22e",
   "metadata": {},
   "outputs": [],
   "source": []
  }
 ],
 "metadata": {
  "kernelspec": {
   "display_name": "Python 3 (ipykernel)",
   "language": "python",
   "name": "python3"
  },
  "language_info": {
   "codemirror_mode": {
    "name": "ipython",
    "version": 3
   },
   "file_extension": ".py",
   "mimetype": "text/x-python",
   "name": "python",
   "nbconvert_exporter": "python",
   "pygments_lexer": "ipython3",
   "version": "3.9.13"
  }
 },
 "nbformat": 4,
 "nbformat_minor": 5
}
